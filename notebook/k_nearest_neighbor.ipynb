{
 "cells": [
  {
   "cell_type": "code",
   "execution_count": null,
   "metadata": {},
   "outputs": [],
   "source": [
    "import pandas as pd\n",
    "import numpy as np\n",
    "from sklearn.neighbors import KNeighborsClassifier\n",
    "from sklearn.model_selection import train_test_split\n",
    "import pickle\n",
    "\n",
    "import plotly.express as px\n",
    "from jupyter_dash import JupyterDash\n",
    "from dash import html, dcc, Input, Output"
   ]
  },
  {
   "attachments": {},
   "cell_type": "markdown",
   "metadata": {},
   "source": [
    "citation: Scikit-learn: Machine Learning in Python, Pedregosa et al., JMLR 12, pp. 2825-2830, 2011."
   ]
  },
  {
   "attachments": {},
   "cell_type": "markdown",
   "metadata": {},
   "source": [
    "# Data Processing"
   ]
  },
  {
   "attachments": {},
   "cell_type": "markdown",
   "metadata": {},
   "source": [
    "data from UCI Machine Learning Repositories: https://archive.ics.uci.edu/ml/datasets/SkillCraft1+Master+Table+Dataset\n",
    "\n",
    "source: Thompson JJ, Blair MR, Chen L, Henrey AJ (2013) Video Game Telemetry as a Critical Tool in the Study of Complex Skill Learning. PLoS ONE 8(9): e75129."
   ]
  },
  {
   "cell_type": "code",
   "execution_count": null,
   "metadata": {},
   "outputs": [],
   "source": [
    "data = pd.read_csv('../data/SkillCraft1_Dataset.csv', na_values='?')\n",
    "data = data.drop(['GameID'], axis=1)\n",
    "# data = data[['LeagueIndex', 'Age', 'HoursPerWeek', 'TotalHours', 'APM']]\n",
    "\n",
    "filtered_data = data[data[data.columns].notnull().all(1)] # filter out any row that contains missing value\n",
    "filtered_data"
   ]
  },
  {
   "attachments": {},
   "cell_type": "markdown",
   "metadata": {},
   "source": [
    "# Model Construction"
   ]
  },
  {
   "cell_type": "code",
   "execution_count": null,
   "metadata": {},
   "outputs": [],
   "source": [
    "predict = 'LeagueIndex'\n",
    "\n",
    "x = np.array(filtered_data.drop([predict], axis=1))\n",
    "y = np.array(filtered_data[predict])\n",
    "\n",
    "print('Model Construction\\n------------------')\n",
    "best_acc = 0\n",
    "for _ in range(10):\n",
    "    for k in range(3, 14, 2):\n",
    "        x_train, x_test, y_train, y_test = train_test_split(x, y, test_size=0.1)\n",
    "\n",
    "        model = KNeighborsClassifier(n_neighbors=k)\n",
    "        \n",
    "        model.fit(x_train, y_train)\n",
    "        acc = model.score(x_test, y_test)\n",
    "        if acc > best_acc:\n",
    "            best_acc = acc\n",
    "            with open('../model/8LeagueSkills_KNearestNeighborModel.pickle', 'wb') as f:\n",
    "                pickle.dump(model, f)\n",
    "                print(f'New most accurate model ({best_acc}) using {k} neighbors is saved!')"
   ]
  },
  {
   "attachments": {},
   "cell_type": "markdown",
   "metadata": {},
   "source": [
    "# Prediction"
   ]
  },
  {
   "cell_type": "code",
   "execution_count": null,
   "metadata": {},
   "outputs": [],
   "source": [
    "model = open('../model/8LeagueSkills_KNearestNeighborModel.pickle', 'rb')\n",
    "model: KNeighborsClassifier = pickle.load(model)"
   ]
  },
  {
   "cell_type": "code",
   "execution_count": null,
   "metadata": {},
   "outputs": [],
   "source": [
    "print('\\nPredition\\n---------')\n",
    "rank: dict = {1: 'Bronze', 2: 'Silver', 3: 'Gold', 4: 'Platinum', 5: 'Diamond', 6: 'Master', 7: 'GrandMaster', 8: 'Professional'}\n",
    "\n",
    "predictions = model.predict(x_test)\n",
    "\n",
    "for i, prediction in enumerate(predictions):\n",
    "    if i < 10:\n",
    "        try:\n",
    "            print(f'Prediction: {rank[prediction]}, Actual: {rank[y_test[i]]}')\n",
    "        except KeyError:\n",
    "            print(f'Prediction: Unknown, Actual: {rank[y_test[i]]}')\n",
    "    else:\n",
    "        break"
   ]
  },
  {
   "cell_type": "markdown",
   "metadata": {},
   "source": [
    "## 4 Leagues Categorization"
   ]
  },
  {
   "cell_type": "code",
   "execution_count": null,
   "metadata": {},
   "outputs": [],
   "source": [
    "fourLeague_data = filtered_data.copy()\n",
    "\n",
    "rank: dict = {1: 'Bronze-Silver', 2: 'Gold-Platinum', 3: 'Diamond-Master', 4: 'GrandMaster-Professional'}\n",
    "fourLeague_data.loc[fourLeague_data['LeagueIndex'] == 2, 'LeagueIndex'] = 1\n",
    "fourLeague_data.loc[fourLeague_data['LeagueIndex'] == 3, 'LeagueIndex'] = 2\n",
    "fourLeague_data.loc[fourLeague_data['LeagueIndex'] == 4, 'LeagueIndex'] = 2\n",
    "fourLeague_data.loc[fourLeague_data['LeagueIndex'] == 5, 'LeagueIndex'] = 3\n",
    "fourLeague_data.loc[fourLeague_data['LeagueIndex'] == 6, 'LeagueIndex'] = 4\n",
    "fourLeague_data.loc[fourLeague_data['LeagueIndex'] == 7, 'LeagueIndex'] = 4\n",
    "fourLeague_data.loc[fourLeague_data['LeagueIndex'] == 8, 'LeagueIndex'] = 4\n",
    "\n",
    "predict = 'LeagueIndex'\n",
    "\n",
    "x = np.array(fourLeague_data.drop([predict], axis=1))\n",
    "y = np.array(fourLeague_data[predict])\n",
    "\n",
    "print('Model Construction\\n------------------')\n",
    "best_acc = 0\n",
    "for _ in range(10):\n",
    "    for k in range(3, 14, 2):\n",
    "        x_train, x_test, y_train, y_test = train_test_split(x, y, test_size=0.1)\n",
    "\n",
    "        model = KNeighborsClassifier(n_neighbors=k)\n",
    "        \n",
    "        model.fit(x_train, y_train)\n",
    "        acc = model.score(x_test, y_test)\n",
    "        if acc > best_acc:\n",
    "            best_acc = acc\n",
    "            with open('../model/4LeagueSkills_KNearestNeighborModel.pickle', 'wb') as f:\n",
    "                pickle.dump(model, f)\n",
    "                print(f'New most accurate model ({best_acc}) using {k} neighbors is saved!')\n",
    "\n",
    "print('\\nPredition\\n---------')\n",
    "predictions = model.predict(x_test)\n",
    "\n",
    "for i, prediction in enumerate(predictions):\n",
    "    if i < 10:\n",
    "        try:\n",
    "            print(f'Prediction: {rank[prediction]}, Actual: {rank[y_test[i]]}')\n",
    "        except KeyError:\n",
    "            print(f'Prediction: Unknown, Actual: {rank[y_test[i]]}')\n",
    "    else:\n",
    "        break"
   ]
  },
  {
   "attachments": {},
   "cell_type": "markdown",
   "metadata": {},
   "source": [
    "## 3 Leagues Categorization"
   ]
  },
  {
   "cell_type": "code",
   "execution_count": null,
   "metadata": {},
   "outputs": [],
   "source": [
    "threeLeague_data = filtered_data.copy()\n",
    "\n",
    "rank: dict = {1: 'Bronze-Silver-Gold', 2: 'Platinum-Diamond-Master', 3: 'GrandMaster-Professional'}\n",
    "threeLeague_data.loc[threeLeague_data['LeagueIndex'] == 2, 'LeagueIndex'] = 1\n",
    "threeLeague_data.loc[threeLeague_data['LeagueIndex'] == 3, 'LeagueIndex'] = 1\n",
    "threeLeague_data.loc[threeLeague_data['LeagueIndex'] == 4, 'LeagueIndex'] = 2\n",
    "threeLeague_data.loc[threeLeague_data['LeagueIndex'] == 5, 'LeagueIndex'] = 2\n",
    "threeLeague_data.loc[threeLeague_data['LeagueIndex'] == 6, 'LeagueIndex'] = 2\n",
    "threeLeague_data.loc[threeLeague_data['LeagueIndex'] == 7, 'LeagueIndex'] = 3\n",
    "threeLeague_data.loc[threeLeague_data['LeagueIndex'] == 8, 'LeagueIndex'] = 3\n",
    "\n",
    "predict = 'LeagueIndex'\n",
    "\n",
    "x = np.array(threeLeague_data.drop([predict], axis=1))\n",
    "y = np.array(threeLeague_data[predict])\n",
    "\n",
    "print('Model Construction\\n------------------')\n",
    "best_acc = 0\n",
    "for _ in range(10):\n",
    "    for k in range(3, 14, 2):\n",
    "        x_train, x_test, y_train, y_test = train_test_split(x, y, test_size=0.1)\n",
    "\n",
    "        model = KNeighborsClassifier(n_neighbors=k)\n",
    "        \n",
    "        model.fit(x_train, y_train)\n",
    "        acc = model.score(x_test, y_test)\n",
    "        if acc > best_acc:\n",
    "            best_acc = acc\n",
    "            with open('../model/3LeagueSkills_KNearestNeighborModel.pickle', 'wb') as f:\n",
    "                pickle.dump(model, f)\n",
    "                print(f'New most accurate model ({best_acc}) using {k} neighbors is saved!')\n",
    "\n",
    "print('\\nPredition\\n---------')\n",
    "predictions = model.predict(x_test)\n",
    "\n",
    "for i, prediction in enumerate(predictions):\n",
    "    if i < 10:\n",
    "        try:\n",
    "            print(f'Prediction: {rank[prediction]}, Actual: {rank[y_test[i]]}')\n",
    "        except KeyError:\n",
    "            print(f'Prediction: Unknown, Actual: {rank[y_test[i]]}')\n",
    "    else:\n",
    "        break"
   ]
  },
  {
   "attachments": {},
   "cell_type": "markdown",
   "metadata": {},
   "source": [
    "## 2 Leagues Categorization"
   ]
  },
  {
   "cell_type": "code",
   "execution_count": null,
   "metadata": {},
   "outputs": [],
   "source": [
    "twoLeague_data = filtered_data.copy()\n",
    "\n",
    "rank: dict = {1: 'Bronze-Silver-Gold-Platinum', 2: 'Diamond-Master-GrandMaster-Professional'}\n",
    "twoLeague_data.loc[twoLeague_data['LeagueIndex'] == 2, 'LeagueIndex'] = 1\n",
    "twoLeague_data.loc[twoLeague_data['LeagueIndex'] == 3, 'LeagueIndex'] = 1\n",
    "twoLeague_data.loc[twoLeague_data['LeagueIndex'] == 4, 'LeagueIndex'] = 1\n",
    "twoLeague_data.loc[twoLeague_data['LeagueIndex'] == 5, 'LeagueIndex'] = 2\n",
    "twoLeague_data.loc[twoLeague_data['LeagueIndex'] == 6, 'LeagueIndex'] = 2\n",
    "twoLeague_data.loc[twoLeague_data['LeagueIndex'] == 7, 'LeagueIndex'] = 2\n",
    "twoLeague_data.loc[twoLeague_data['LeagueIndex'] == 8, 'LeagueIndex'] = 2\n",
    "\n",
    "predict = 'LeagueIndex'\n",
    "\n",
    "x = np.array(twoLeague_data.drop([predict], axis=1))\n",
    "y = np.array(twoLeague_data[predict])\n",
    "\n",
    "print('Model Construction\\n------------------')\n",
    "best_acc = 0\n",
    "for _ in range(10):\n",
    "    for k in range(3, 14, 2):\n",
    "        x_train, x_test, y_train, y_test = train_test_split(x, y, test_size=0.1)\n",
    "\n",
    "        model = KNeighborsClassifier(n_neighbors=k)\n",
    "\n",
    "        model.fit(x_train, y_train)\n",
    "        acc = model.score(x_test, y_test)\n",
    "        if acc > best_acc:\n",
    "            best_acc = acc\n",
    "            with open('../model/3LeagueSkills_KNearestNeighborModel.pickle', 'wb') as f:\n",
    "                pickle.dump(model, f)\n",
    "                print(f'New most accurate model ({best_acc}) using {k} neighbors is saved!')\n",
    "\n",
    "print('\\nPredition\\n---------')\n",
    "predictions = model.predict(x_test)\n",
    "\n",
    "for i, prediction in enumerate(predictions):\n",
    "    if i < 10:\n",
    "        try:\n",
    "            print(f'Prediction: {rank[prediction]}, Actual: {rank[y_test[i]]}')\n",
    "        except KeyError:\n",
    "            print(f'Prediction: Unknown, Actual: {rank[y_test[i]]}')\n",
    "    else:\n",
    "        break"
   ]
  },
  {
   "attachments": {},
   "cell_type": "markdown",
   "metadata": {},
   "source": [
    "# Visualization Tool"
   ]
  },
  {
   "cell_type": "code",
   "execution_count": null,
   "metadata": {},
   "outputs": [],
   "source": [
    "app = JupyterDash(__name__)\n",
    "\n",
    "app.layout = html.Div([\n",
    "    html.Div([\n",
    "        html.Div([\n",
    "            dcc.Dropdown(\n",
    "                options=list(filtered_data.columns),\n",
    "                value='LeagueIndex',\n",
    "                id='y-axis'),\n",
    "            dcc.RadioItems(\n",
    "                options=['linear', 'log'],\n",
    "                value='linear',\n",
    "                id='y-axis-type',\n",
    "                inline=True)], \n",
    "            style={'width': '48%', 'display': 'inline-block'}),\n",
    "        html.Div([\n",
    "            dcc.Dropdown(\n",
    "                options=list(filtered_data.columns),\n",
    "                value='HoursPerWeek',\n",
    "                id='x-axis'),\n",
    "            dcc.RadioItems(\n",
    "                options=['linear', 'log'],\n",
    "                value='linear',\n",
    "                id='x-axis-type',\n",
    "                inline=True)],\n",
    "            style={'width': '48%', 'float': 'right', 'display': 'inline-block'})\n",
    "    ]),\n",
    "    dcc.Graph(id='graph', figure={}),\n",
    "])\n",
    "\n",
    "@app.callback(\n",
    "    Output('graph', 'figure'),\n",
    "    Input('y-axis', 'value'),\n",
    "    Input('y-axis-type', 'value'),\n",
    "    Input('x-axis', 'value'),\n",
    "    Input('x-axis-type', 'value'))\n",
    "def update_graph(y_axis, y_axis_type, x_axis, x_axis_type):\n",
    "    fig = px.scatter(\n",
    "        filtered_data,\n",
    "        y=y_axis if y_axis_type == 'linear' else np.log10(filtered_data[y_axis]),\n",
    "        x=x_axis if x_axis_type == 'linear' else np.log10(filtered_data[x_axis]),\n",
    "        color='LeagueIndex',\n",
    "        color_continuous_scale=px.colors.sequential.Rainbow,\n",
    "        title=\"Custom Graph Generator\")\n",
    "    return fig\n",
    "\n",
    "# Run app and display result inline in the notebook\n",
    "app.run_server(mode='inline')"
   ]
  }
 ],
 "metadata": {
  "kernelspec": {
   "display_name": "tensorflow",
   "language": "python",
   "name": "python3"
  },
  "language_info": {
   "codemirror_mode": {
    "name": "ipython",
    "version": 3
   },
   "file_extension": ".py",
   "mimetype": "text/x-python",
   "name": "python",
   "nbconvert_exporter": "python",
   "pygments_lexer": "ipython3",
   "version": "3.10.9"
  },
  "orig_nbformat": 4
 },
 "nbformat": 4,
 "nbformat_minor": 2
}
